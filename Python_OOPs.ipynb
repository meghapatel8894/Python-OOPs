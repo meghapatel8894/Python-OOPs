{
  "nbformat": 4,
  "nbformat_minor": 0,
  "metadata": {
    "colab": {
      "provenance": []
    },
    "kernelspec": {
      "name": "python3",
      "display_name": "Python 3"
    },
    "language_info": {
      "name": "python"
    }
  },
  "cells": [
    {
      "cell_type": "markdown",
      "source": [
        "# **Theory Questions**"
      ],
      "metadata": {
        "id": "2uInE8isAspW"
      }
    },
    {
      "cell_type": "markdown",
      "source": [
        "**1. What is Object-Oriented Programming (OOP)?**\n",
        "\n",
        "    Object-Oriented Programming (OOP) is a programming paradigm based on the concept of objects that contain both attributes and methods.\n",
        "    It helps in modeling real-world entities in code.\n",
        "\n",
        "    Example:\n",
        "\n",
        "    class Dog:\n",
        "        def __init__(self, name):\n",
        "            self.name = name\n",
        "        \n",
        "        def bark(self):\n",
        "            print(f\"{self.name} is barking!\")\n",
        "\n",
        "    d = Dog(\"Tom\")\n",
        "    d.bark()\n",
        "\n",
        "**2. What is a class in OOP?**\n",
        "\n",
        "    A class is a blueprint or template for creating objects. It defines attributes and methods.\n",
        "\n",
        "    Example:\n",
        "\n",
        "    class Car:\n",
        "        def __init__(self, brand, model):\n",
        "            self.brand = brand\n",
        "            self.model = model\n",
        "\n",
        "**3. What is an object in OOP?**\n",
        "\n",
        "    An object is an instance of a class. It represents a specific entity created from the class.\n",
        "\n",
        "    Example:\n",
        "\n",
        "    my_car = Car(\"Toyota\", \"Corolla\")  # object of Car class\n",
        "\n",
        "**4. What is the difference between abstraction and encapsulation?**\n",
        "\n",
        "    Abstraction means it Hides implementation details and shows only the essential features.\n",
        "\n",
        "    Encapsulation means it Bundles data and methods together and restricts direct access.\n",
        "\n",
        "    Example:\n",
        "\n",
        "    # Encapsulation with private variable\n",
        "    class Bank:\n",
        "        def __init__(self, balance):\n",
        "            self.__balance = balance  # private variable\n",
        "        \n",
        "        def get_balance(self):\n",
        "            return self.__balance\n",
        "\n",
        "**5. What are dunder methods in Python?**\n",
        "\n",
        "    Dunder (double underscore) methods are special built-in methods in Python that start and end with __.\n",
        "\n",
        "    Example:\n",
        "\n",
        "    __init__ → constructor\n",
        "\n",
        "    __str__ → string representation\n",
        "\n",
        "    __len__ → length of an object\n",
        "\n",
        "    class Book:\n",
        "        def __init__(self, title):\n",
        "            self.title = title\n",
        "        \n",
        "        def __str__(self):\n",
        "            return f\"Book: {self.title}\"\n",
        "\n",
        "**6. Explain the concept of inheritance in OOP.**\n",
        "\n",
        "    Inheritance allows a class (child) to acquire properties and methods from another class (parent).\n",
        "\n",
        "    Example:\n",
        "\n",
        "    class Animal:\n",
        "        def speak(self):\n",
        "            print(\"Animal speaks\")\n",
        "\n",
        "    class Dog(Animal):  # Inherits from Animal\n",
        "        def bark(self):\n",
        "            print(\"Dog barks\")\n",
        "\n",
        "**7. What is polymorphism in OOP?**\n",
        "\n",
        "    Polymorphism allows methods with the same name to behave differently based on the object calling them.\n",
        "\n",
        "    Example:\n",
        "\n",
        "    class Cat:\n",
        "        def sound(self):\n",
        "            return \"Meow\"\n",
        "    class Dog:\n",
        "        def sound(self):\n",
        "            return \"Bark\"\n",
        "\n",
        "    for animal in (Cat(), Dog()):\n",
        "        print(animal.sound())\n",
        "\n",
        "**8. How is encapsulation achieved in Python?**\n",
        "\n",
        "    Encapsulation is achieved using private (__var) and protected (_var) variables.\n",
        "\n",
        "    Example:\n",
        "\n",
        "    class Account:\n",
        "        def __init__(self, balance):\n",
        "            self.__balance = balance  # private\n",
        "\n",
        "        def get_balance(self):\n",
        "            return self.__balance\n",
        "\n",
        "**9. What is a constructor in Python?**\n",
        "\n",
        "    A constructor is a special method __init__ automatically executed when an object is created.\n",
        "\n",
        "    Example:\n",
        "\n",
        "    class Student:\n",
        "        def __init__(self, name):\n",
        "            self.name = name\n",
        "\n",
        "**10. What are class and static methods in Python?**\n",
        "\n",
        "    Class Method (@classmethod) Works with class variables.\n",
        "\n",
        "    Static Method (@staticmethod) is Independent of class or instance variables.\n",
        "\n",
        "    Example:\n",
        "\n",
        "    class Example:\n",
        "        class_var = \"Hello\"\n",
        "\n",
        "        @classmethod\n",
        "        def cls_method(cls):\n",
        "            return cls.class_var\n",
        "        \n",
        "        @staticmethod\n",
        "        def static_method():\n",
        "            return \"I am static\"\n",
        "\n",
        "**11. What is method overloading in Python?**\n",
        "\n",
        "    Python doesn’t support true method overloading. It can be achieved using default arguments.\n",
        "\n",
        "    Example:\n",
        "\n",
        "    class Math:\n",
        "        def add(self, a, b=0, c=0):\n",
        "            return a + b + c\n",
        "\n",
        "**12. What is method overriding in OOP?**\n",
        "\n",
        "    When a child class provides its own implementation of a method that exists in the parent class.\n",
        "\n",
        "    Example:\n",
        "\n",
        "    class Parent:\n",
        "        def show(self):\n",
        "            print(\"Parent method\")\n",
        "\n",
        "    class Child(Parent):\n",
        "        def show(self):\n",
        "            print(\"Child method\")\n",
        "\n",
        "**13. What is a property decorator in Python?**\n",
        "\n",
        "    The @property decorator is used to make a method behave like an attribute.\n",
        "\n",
        "    Example:\n",
        "\n",
        "    class Circle:\n",
        "        def __init__(self, radius):\n",
        "            self.radius = radius\n",
        "        \n",
        "        @property\n",
        "        def area(self):\n",
        "            return 3.14 * self.radius * self.radius\n",
        "\n",
        "    c = Circle(5)\n",
        "    print(c.area)  # No need to call as method\n",
        "\n",
        "**14. Why is polymorphism important in OOP?**\n",
        "\n",
        "    It allows flexibility and code reusability by letting different objects respond to the same method in different ways.\n",
        "\n",
        "**15. What is an abstract class in Python?**\n",
        "\n",
        "    An abstract class is a class that cannot be instantiated and may contain abstract methods (methods without implementation).\n",
        "\n",
        "    Example:\n",
        "\n",
        "    from abc import ABC, abstractmethod\n",
        "\n",
        "    class Shape(ABC):\n",
        "        @abstractmethod\n",
        "        def area(self):\n",
        "            pass\n",
        "\n",
        "**16. What are the advantages of OOP?**\n",
        "\n",
        "    Code reusability\n",
        "    Modularity\n",
        "    Data hiding (encapsulation)\n",
        "    Easy maintenance\n",
        "    Polymorphism & inheritance improve flexibility\n",
        "\n",
        "**17. What is multiple inheritance in Python?**\n",
        "\n",
        "    When a class inherits from more than one parent class.\n",
        "\n",
        "    Example:\n",
        "\n",
        "    class A: pass\n",
        "    class B: pass\n",
        "    class C(A, B): pass  # Multiple inheritance\n",
        "\n",
        "**18. What is the difference between a class variable and an instance variable?**\n",
        "\n",
        "    Class Variable → Shared across all objects.\n",
        "\n",
        "    Instance Variable → Unique to each object.\n",
        "\n",
        "    class Example:\n",
        "        class_var = \"shared\"\n",
        "        def __init__(self, value):\n",
        "            self.instance_var = value\n",
        "\n",
        "**19. Explain the purpose of __str__ and __repr__ methods in Python.**\n",
        "\n",
        "    __str__ → User-friendly string representation.\n",
        "\n",
        "    __repr__ → Developer-oriented representation (debugging).\n",
        "\n",
        "    class Book:\n",
        "        def __str__(self):\n",
        "            return \"Readable Info\"\n",
        "        def __repr__(self):\n",
        "            return \"Book('Debug Info')\"\n",
        "\n",
        "**20. What is the significance of the super() function in Python?**\n",
        "\n",
        "    super() is used to call parent class methods in a child class.\n",
        "\n",
        "    class Parent:\n",
        "        def show(self): print(\"Parent\")\n",
        "\n",
        "    class Child(Parent):\n",
        "        def show(self):\n",
        "            super().show()\n",
        "            print(\"Child\")\n",
        "\n",
        "**21. What is the significance of the __del__ method in Python?**\n",
        "\n",
        "    It is a destructor method called when an object is deleted or goes out of scope.\n",
        "\n",
        "    class Example:\n",
        "        def __del__(self):\n",
        "            print(\"Object destroyed\")\n",
        "\n",
        "**22. What is the difference between @staticmethod and @classmethod in Python?**\n",
        "\n",
        "    @staticmethod → Doesn’t access class or instance data.\n",
        "\n",
        "    @classmethod → Works with class-level data (takes cls as first argument).\n",
        "\n",
        "**23. How does polymorphism work in Python with inheritance?**\n",
        "\n",
        "    Child classes can redefine methods of parent class, and Python decides at runtime which method to call.\n",
        "\n",
        "**24. What is method chaining in Python OOP?**\n",
        "\n",
        "    Calling multiple methods sequentially on the same object in a single line.\n",
        "\n",
        "    Example:\n",
        "\n",
        "    class Person:\n",
        "        def set_name(self, name):\n",
        "            self.name = name\n",
        "            return self\n",
        "        def set_age(self, age):\n",
        "            self.age = age\n",
        "            return self\n",
        "\n",
        "    p = Person().set_name(\"Alice\").set_age(25)\n",
        "\n",
        "**25. What is the purpose of the __call__ method in Python?**\n",
        "\n",
        "    The __call__ method makes an object callable like a function.\n",
        "\n",
        "    Example:\n",
        "\n",
        "    class Multiplier:\n",
        "        def __init__(self, factor):\n",
        "            self.factor = factor\n",
        "        \n",
        "        def __call__(self, x):\n",
        "            return x * self.factor\n",
        "\n",
        "    m = Multiplier(5)\n",
        "    print(m(10))  # Acts like a function -> 50"
      ],
      "metadata": {
        "id": "sCf8R3PIAx4z"
      }
    },
    {
      "cell_type": "markdown",
      "source": [
        "# **Practical Questions**"
      ],
      "metadata": {
        "id": "cXk_KJELD0cy"
      }
    },
    {
      "cell_type": "markdown",
      "source": [
        "1. Create a parent class Animal with a method speak() that prints a generic message. Create a child class Dog that overrides the speak() method to print \"Bark!\"."
      ],
      "metadata": {
        "id": "LnHjnHsvD7Eh"
      }
    },
    {
      "cell_type": "code",
      "source": [
        "class Animal:\n",
        "  def speak(self):\n",
        "    print(\"This is use to create sound of Animal.\")\n",
        "\n",
        "class Dog(Animal):\n",
        "  def speak(self):\n",
        "    print(\"Bark!\")"
      ],
      "metadata": {
        "id": "v_7l5D3LEBHj"
      },
      "execution_count": null,
      "outputs": []
    },
    {
      "cell_type": "code",
      "source": [
        "a = Animal()\n",
        "d = Dog()\n",
        "print(\"Parent class:\")\n",
        "a.speak()\n",
        "print(\"Child class:\")\n",
        "d.speak()"
      ],
      "metadata": {
        "colab": {
          "base_uri": "https://localhost:8080/"
        },
        "id": "bLEncxDbEaCY",
        "outputId": "44832934-a830-47ea-a838-830e32c04701"
      },
      "execution_count": null,
      "outputs": [
        {
          "output_type": "stream",
          "name": "stdout",
          "text": [
            "Parent class:\n",
            "This is use to create sound of Animal.\n",
            "Child class:\n",
            "Bark!\n"
          ]
        }
      ]
    },
    {
      "cell_type": "markdown",
      "source": [
        "2. Write a program to create an abstract class Shape with a method area(). Derive classes Circle and Rectangle from it and implement the area() method in both."
      ],
      "metadata": {
        "id": "44MQSCYcFDAv"
      }
    },
    {
      "cell_type": "code",
      "source": [
        "from abc import ABC, abstractmethod\n",
        "import math\n",
        "\n",
        "class Shape:\n",
        "  @abstractmethod\n",
        "  def area(self):\n",
        "    pass\n",
        "\n",
        "class Circle(Shape):\n",
        "  def __init__(self,radius):\n",
        "    self.radius=radius\n",
        "\n",
        "  def area(self):\n",
        "    return math.pi * self.radius * self.radius\n",
        "\n",
        "class Rectangle(Shape):\n",
        "  def __init__(self,height,width):\n",
        "    self.height=height\n",
        "    self.width=width\n",
        "\n",
        "  def area(self):\n",
        "    return self.height * self.width\n",
        "\n",
        "shapes = [Circle(5),Rectangle(4, 6)]\n",
        "\n",
        "for shape in shapes:\n",
        "  print(f\"Area of {shape.__class__.__name__}: {shape.area():.2f}\")"
      ],
      "metadata": {
        "colab": {
          "base_uri": "https://localhost:8080/"
        },
        "id": "P74WxBdkFITc",
        "outputId": "b3b2d21c-c5c2-4612-f801-e20cb3bf97af"
      },
      "execution_count": null,
      "outputs": [
        {
          "output_type": "stream",
          "name": "stdout",
          "text": [
            "Area of Circle: 78.54\n",
            "Area of Rectangle: 24.00\n"
          ]
        }
      ]
    },
    {
      "cell_type": "markdown",
      "source": [
        "3. Implement a multi-level inheritance scenario where a class Vehicle has an attribute type. Derive a class Car and further derive a class ElectricCar that adds a battery attribute."
      ],
      "metadata": {
        "id": "rt8rpomAX0ek"
      }
    },
    {
      "cell_type": "code",
      "source": [
        "class Vehicle:\n",
        "    def __init__(self, vehicle_type):\n",
        "        self.vehicle_type = vehicle_type\n",
        "\n",
        "    def display_info(self):\n",
        "        print(f\"Vehicle Type: {self.vehicle_type}\")\n",
        "\n",
        "class Car(Vehicle):\n",
        "    def __init__(self, vehicle_type, brand, model):\n",
        "        super().__init__(vehicle_type)\n",
        "        self.brand = brand\n",
        "        self.model = model\n",
        "\n",
        "    def display_info(self):\n",
        "        super().display_info()\n",
        "        print(f\"Car Brand: {self.brand}, Model: {self.model}\")\n",
        "\n",
        "class ElectricCar(Car):\n",
        "    def __init__(self, vehicle_type, brand, model, battery_capacity):\n",
        "        super().__init__(vehicle_type, brand, model)\n",
        "        self.battery_capacity = battery_capacity\n",
        "\n",
        "    def display_info(self):\n",
        "        super().display_info()\n",
        "        print(f\"Battery Capacity: {self.battery_capacity} kWh\")\n",
        "\n",
        "\n",
        "tesla = ElectricCar(\"Four Wheeler\", \"Tesla\", \"Model S\", 100)\n",
        "tesla.display_info()"
      ],
      "metadata": {
        "colab": {
          "base_uri": "https://localhost:8080/"
        },
        "id": "aWTIctMLX58N",
        "outputId": "728a7420-041e-4f83-883b-6e6c84b7f12e"
      },
      "execution_count": null,
      "outputs": [
        {
          "output_type": "stream",
          "name": "stdout",
          "text": [
            "Vehicle Type: Four Wheeler\n",
            "Car Brand: Tesla, Model: Model S\n",
            "Battery Capacity: 100 kWh\n"
          ]
        }
      ]
    },
    {
      "cell_type": "markdown",
      "source": [
        "4. Demonstrate polymorphism by creating a base class Bird with a method fly(). Create two derived classes Sparrow and Penguin that override the fly() method."
      ],
      "metadata": {
        "id": "1vmNXaN2Yonp"
      }
    },
    {
      "cell_type": "code",
      "source": [
        "class Bird:\n",
        "  def fly(self):\n",
        "    print(\"This is Parent class Bird\")\n",
        "\n",
        "class Sparrow(Bird):\n",
        "  def fly(self):\n",
        "    print(\"This is child class Sparrow\")\n",
        "\n",
        "class Penguin(Bird):\n",
        "  def fly(self):\n",
        "    print(\"This is child class Penguin\")\n",
        "\n",
        "# Function to demonstrate polymorphism\n",
        "def show_flying(bird):\n",
        "    bird.fly()\n",
        "\n",
        "\n",
        "s = Sparrow()\n",
        "p = Penguin()\n",
        "\n",
        "# Using polymorphism\n",
        "show_flying(s)   # Calls Sparrow's fly()\n",
        "show_flying(p)   # Calls Penguin's fly()"
      ],
      "metadata": {
        "colab": {
          "base_uri": "https://localhost:8080/"
        },
        "id": "Iq1lqxmyYtDu",
        "outputId": "95c728ae-142e-4eaa-8674-9ca50f5e15be"
      },
      "execution_count": null,
      "outputs": [
        {
          "output_type": "stream",
          "name": "stdout",
          "text": [
            "This is child class Sparrow\n",
            "This is child class Penguin\n"
          ]
        }
      ]
    },
    {
      "cell_type": "markdown",
      "source": [
        "5. Write a program to demonstrate encapsulation by creating a class BankAccount with private attributes balance and methods to deposit, withdraw, and check balance."
      ],
      "metadata": {
        "id": "X2LBxi3cZuzR"
      }
    },
    {
      "cell_type": "code",
      "source": [
        "# Program to demonstrate Encapsulation in Python\n",
        "\n",
        "class BankAccount:\n",
        "    def __init__(self, account_holder, initial_balance=0):\n",
        "        # Private attribute\n",
        "        self.__balance = initial_balance\n",
        "        self.account_holder = account_holder\n",
        "\n",
        "    # Public method to deposit money\n",
        "    def deposit(self, amount):\n",
        "        if amount > 0:\n",
        "            self.__balance += amount\n",
        "            print(f\"Deposited: ₹{amount}\")\n",
        "        else:\n",
        "            print(\"Deposit amount must be positive.\")\n",
        "\n",
        "    # Public method to withdraw money\n",
        "    def withdraw(self, amount):\n",
        "        if 0 < amount <= self.__balance:\n",
        "            self.__balance -= amount\n",
        "            print(f\"Withdrawn: ₹{amount}\")\n",
        "        else:\n",
        "            print(\"Insufficient balance or invalid amount.\")\n",
        "\n",
        "    # Public method to check balance\n",
        "    def check_balance(self):\n",
        "        print(f\"Account Holder: {self.account_holder}\")\n",
        "        print(f\"Available Balance: ₹{self.__balance}\")\n",
        "\n",
        "account = BankAccount(\"Megha Patel\", 5000)\n",
        "\n",
        "account.check_balance()\n",
        "account.deposit(2000)\n",
        "account.withdraw(1500)\n",
        "account.check_balance()"
      ],
      "metadata": {
        "id": "T8QygnUrZ2gl",
        "colab": {
          "base_uri": "https://localhost:8080/"
        },
        "outputId": "e0cba1e0-6574-46cf-fc53-3811cbc44723"
      },
      "execution_count": 1,
      "outputs": [
        {
          "output_type": "stream",
          "name": "stdout",
          "text": [
            "Account Holder: Megha Patel\n",
            "Available Balance: ₹5000\n",
            "Deposited: ₹2000\n",
            "Withdrawn: ₹1500\n",
            "Account Holder: Megha Patel\n",
            "Available Balance: ₹5500\n"
          ]
        }
      ]
    },
    {
      "cell_type": "markdown",
      "source": [
        "6. Demonstrate runtime polymorphism using a method play() in a base class Instrument. Derive classes Guitar and Piano that implement their own version of play()."
      ],
      "metadata": {
        "id": "0JxEjGcM_i4H"
      }
    },
    {
      "cell_type": "code",
      "source": [
        "# Program to demonstrate Runtime Polymorphism in Python\n",
        "\n",
        "# Base class\n",
        "class Instrument:\n",
        "    def play(self):\n",
        "        print(\"An instrument is being played.\")\n",
        "\n",
        "# Derived class 1\n",
        "class Guitar(Instrument):\n",
        "    def play(self):\n",
        "        print(\"Playing the Guitar.\")\n",
        "\n",
        "# Derived class 2\n",
        "class Piano(Instrument):\n",
        "    def play(self):\n",
        "        print(\"Playing the Piano.\")\n",
        "\n",
        "# Function demonstrating polymorphism\n",
        "def play_instrument(instrument):\n",
        "    instrument.play()\n",
        "\n",
        "\n",
        "guitar = Guitar()\n",
        "piano = Piano()\n",
        "\n",
        "# Runtime Polymorphism: method behavior depends on object type\n",
        "play_instrument(guitar)\n",
        "play_instrument(piano)"
      ],
      "metadata": {
        "colab": {
          "base_uri": "https://localhost:8080/"
        },
        "id": "QvWa2xtq_wb_",
        "outputId": "cca3418a-d5ba-48c1-b3ed-6329e0a6a41f"
      },
      "execution_count": 3,
      "outputs": [
        {
          "output_type": "stream",
          "name": "stdout",
          "text": [
            "Playing the Guitar.\n",
            "Playing the Piano.\n"
          ]
        }
      ]
    },
    {
      "cell_type": "markdown",
      "source": [
        "7. Create a class MathOperations with a class method add_numbers() to add two numbers and a static method subtract_numbers() to subtract two numbers."
      ],
      "metadata": {
        "id": "kgXrX8fIBQh9"
      }
    },
    {
      "cell_type": "code",
      "source": [
        "class MathOperations:\n",
        "    @classmethod\n",
        "    def add_numbers(cls, a, b):\n",
        "        return a + b\n",
        "\n",
        "    @staticmethod\n",
        "    def subtract_numbers(a, b):\n",
        "        return a - b\n",
        "\n",
        "# Main Program\n",
        "print(\"Addition:\", MathOperations.add_numbers(10, 5))\n",
        "print(\"Subtraction:\", MathOperations.subtract_numbers(10, 5))"
      ],
      "metadata": {
        "colab": {
          "base_uri": "https://localhost:8080/"
        },
        "id": "MlpIrb2xBYJz",
        "outputId": "ef9fa582-fabb-4533-f214-650f311dd6fc"
      },
      "execution_count": 4,
      "outputs": [
        {
          "output_type": "stream",
          "name": "stdout",
          "text": [
            "Addition: 15\n",
            "Subtraction: 5\n"
          ]
        }
      ]
    },
    {
      "cell_type": "markdown",
      "source": [
        "8. Implement a class Person with a class method to count the total number of persons created."
      ],
      "metadata": {
        "id": "pW8podfUCsCh"
      }
    },
    {
      "cell_type": "code",
      "source": [
        "class Person:\n",
        "    count = 0\n",
        "\n",
        "    def __init__(self, name):\n",
        "        self.name = name\n",
        "        Person.count += 1\n",
        "\n",
        "    @classmethod\n",
        "    def total_persons(cls):\n",
        "        return cls.count\n",
        "\n",
        "p1 = Person(\"Megha\")\n",
        "p2 = Person(\"Sunny\")\n",
        "print(\"Total Persons:\", Person.total_persons())\n"
      ],
      "metadata": {
        "colab": {
          "base_uri": "https://localhost:8080/"
        },
        "id": "kqw2RcDUCw3o",
        "outputId": "2fd52646-f74c-44b3-cf11-9ad7eb1327c8"
      },
      "execution_count": 6,
      "outputs": [
        {
          "output_type": "stream",
          "name": "stdout",
          "text": [
            "Total Persons: 2\n"
          ]
        }
      ]
    },
    {
      "cell_type": "markdown",
      "source": [
        "9. Write a class Fraction with attributes numerator and denominator. Override the str method to display the fraction as \"numerator/denominator\"."
      ],
      "metadata": {
        "id": "b1dF_qfbDev-"
      }
    },
    {
      "cell_type": "code",
      "source": [
        "class Fraction:\n",
        "    def __init__(self, numerator, denominator):\n",
        "        self.numerator = numerator\n",
        "        self.denominator = denominator\n",
        "\n",
        "    def __str__(self):\n",
        "        return f\"{self.numerator}/{self.denominator}\"\n",
        "\n",
        "f = Fraction(3, 4)\n",
        "print(f)"
      ],
      "metadata": {
        "colab": {
          "base_uri": "https://localhost:8080/"
        },
        "id": "GchE_UnUDkRS",
        "outputId": "75527dee-b614-485b-b690-01ba29c60d21"
      },
      "execution_count": 7,
      "outputs": [
        {
          "output_type": "stream",
          "name": "stdout",
          "text": [
            "3/4\n"
          ]
        }
      ]
    },
    {
      "cell_type": "markdown",
      "source": [
        "10. Demonstrate operator overloading by creating a class Vector and overriding the add method to add two\n",
        "vectors."
      ],
      "metadata": {
        "id": "heg5mA9vDtcy"
      }
    },
    {
      "cell_type": "code",
      "source": [
        "class Vector:\n",
        "    def __init__(self, x, y):\n",
        "        self.x = x\n",
        "        self.y = y\n",
        "\n",
        "    def __add__(self, other):\n",
        "        return Vector(self.x + other.x, self.y + other.y)\n",
        "\n",
        "    def __str__(self):\n",
        "        return f\"Vector({self.x}, {self.y})\"\n",
        "\n",
        "# Main Program\n",
        "v1 = Vector(2, 3)\n",
        "v2 = Vector(4, 1)\n",
        "print(v1)\n",
        "print(v2)\n",
        "print(v1 + v2)"
      ],
      "metadata": {
        "colab": {
          "base_uri": "https://localhost:8080/"
        },
        "id": "ksDLPaI_Dxc4",
        "outputId": "0e42d3cb-ba63-4914-d0e3-01f56a067490"
      },
      "execution_count": 10,
      "outputs": [
        {
          "output_type": "stream",
          "name": "stdout",
          "text": [
            "Vector(2, 3)\n",
            "Vector(4, 1)\n",
            "Vector(6, 4)\n"
          ]
        }
      ]
    },
    {
      "cell_type": "markdown",
      "source": [
        "11. Create a class Person with attributes name and age. Add a method greet() that prints \"Hello, my name is {name} and I am {age} years old.\""
      ],
      "metadata": {
        "id": "77KzxfmUHJ0U"
      }
    },
    {
      "cell_type": "code",
      "source": [
        "class Person:\n",
        "    def __init__(self, name, age):\n",
        "        self.name = name\n",
        "        self.age = age\n",
        "\n",
        "    def greet(self):\n",
        "        print(f\"Hello, my name is {self.name} and I am {self.age} years old.\")\n",
        "\n",
        "# Main Program\n",
        "p = Person(\"Megha\", 31)\n",
        "p.greet()"
      ],
      "metadata": {
        "colab": {
          "base_uri": "https://localhost:8080/"
        },
        "id": "y3BoGgchHOky",
        "outputId": "23ec36f4-ce60-416d-c155-7a97a0971a96"
      },
      "execution_count": 11,
      "outputs": [
        {
          "output_type": "stream",
          "name": "stdout",
          "text": [
            "Hello, my name is Megha and I am 31 years old.\n"
          ]
        }
      ]
    },
    {
      "cell_type": "markdown",
      "source": [
        "12.  Implement a class Student with attributes name and grades. Create a method average_grade() to compute the average of the grades."
      ],
      "metadata": {
        "id": "sf3G2ymtHX8v"
      }
    },
    {
      "cell_type": "code",
      "source": [
        "class Student:\n",
        "    def __init__(self, name, grades):\n",
        "        self.name = name\n",
        "        self.grades = grades\n",
        "\n",
        "    def average_grade(self):\n",
        "        return sum(self.grades) / len(self.grades)\n",
        "\n",
        "# Main Program\n",
        "s = Student(\"Megha\", [80, 80, 80])\n",
        "print(\"Average Grade:\", s.average_grade())"
      ],
      "metadata": {
        "colab": {
          "base_uri": "https://localhost:8080/"
        },
        "id": "uv90yAgFHcJl",
        "outputId": "e9f69397-54c6-4a71-e5a2-749c12fc7cc6"
      },
      "execution_count": 13,
      "outputs": [
        {
          "output_type": "stream",
          "name": "stdout",
          "text": [
            "Average Grade: 80.0\n"
          ]
        }
      ]
    },
    {
      "cell_type": "markdown",
      "source": [
        "13. Create a class Rectangle with methods set_dimensions() to set the dimensions and area() to calculate the area."
      ],
      "metadata": {
        "id": "yExk5L0AH9FO"
      }
    },
    {
      "cell_type": "code",
      "source": [
        "class Rectangle:\n",
        "    def set_dimensions(self, length, width):\n",
        "        self.length = length\n",
        "        self.width = width\n",
        "\n",
        "    def area(self):\n",
        "        return self.length * self.width\n",
        "\n",
        "# Main Program\n",
        "rect = Rectangle()\n",
        "rect.set_dimensions(5, 3)\n",
        "print(\"Area of Rectangle:\", rect.area())"
      ],
      "metadata": {
        "colab": {
          "base_uri": "https://localhost:8080/"
        },
        "id": "PwiIfaOfIZ-b",
        "outputId": "b93cfb94-3bca-430d-ef72-4c717b16ccc0"
      },
      "execution_count": 14,
      "outputs": [
        {
          "output_type": "stream",
          "name": "stdout",
          "text": [
            "Area of Rectangle: 15\n"
          ]
        }
      ]
    },
    {
      "cell_type": "markdown",
      "source": [
        "14. Create a class Employee with a method calculate_salary() that computes the salary based on hours worked and hourly rate. Create a derived class Manager that adds a bonus to the salary."
      ],
      "metadata": {
        "id": "uSxLEu6NIhJ9"
      }
    },
    {
      "cell_type": "code",
      "source": [
        "class Employee:\n",
        "    def calculate_salary(self, hours_worked, hourly_rate):\n",
        "        return hours_worked * hourly_rate\n",
        "\n",
        "class Manager(Employee):\n",
        "    def calculate_salary(self, hours_worked, hourly_rate, bonus):\n",
        "        base_salary = super().calculate_salary(hours_worked, hourly_rate)\n",
        "        return base_salary + bonus\n",
        "\n",
        "# Main Program\n",
        "m = Manager()\n",
        "print(\"Manager Salary:\", m.calculate_salary(160, 200, 5000))"
      ],
      "metadata": {
        "colab": {
          "base_uri": "https://localhost:8080/"
        },
        "id": "tGUGvTNOIl8D",
        "outputId": "1c56421e-faeb-4f79-bc95-a81c45996669"
      },
      "execution_count": 15,
      "outputs": [
        {
          "output_type": "stream",
          "name": "stdout",
          "text": [
            "Manager Salary: 37000\n"
          ]
        }
      ]
    },
    {
      "cell_type": "markdown",
      "source": [
        "15. Create a class Product with attributes name, price, and quantity. Implement a method total_price() that calculates the total price of the product."
      ],
      "metadata": {
        "id": "uYQEwdXpJUw7"
      }
    },
    {
      "cell_type": "code",
      "source": [
        "class Product:\n",
        "    def __init__(self, name, price, quantity):\n",
        "        self.name = name\n",
        "        self.price = price\n",
        "        self.quantity = quantity\n",
        "\n",
        "    def total_price(self):\n",
        "        return self.price * self.quantity\n",
        "\n",
        "# Main Program\n",
        "p = Product(\"Laptop\", 55000, 2)\n",
        "print(\"Total Price:\", p.total_price())"
      ],
      "metadata": {
        "colab": {
          "base_uri": "https://localhost:8080/"
        },
        "id": "n1jTv82iJYq6",
        "outputId": "4d909e6b-3fd5-467b-b58d-7b3e3ab97b9a"
      },
      "execution_count": 16,
      "outputs": [
        {
          "output_type": "stream",
          "name": "stdout",
          "text": [
            "Total Price: 110000\n"
          ]
        }
      ]
    },
    {
      "cell_type": "markdown",
      "source": [
        "16. Create a class Animal with an abstract method sound(). Create two derived classes Cow and Sheep that implement the sound() method."
      ],
      "metadata": {
        "id": "ysRpEVTgMSOv"
      }
    },
    {
      "cell_type": "code",
      "source": [
        "from abc import ABC, abstractmethod\n",
        "\n",
        "class Animal(ABC):\n",
        "    @abstractmethod\n",
        "    def sound(self):\n",
        "        pass\n",
        "\n",
        "class Cow(Animal):\n",
        "    def sound(self):\n",
        "        print(\"Cow says Moo!\")\n",
        "\n",
        "class Sheep(Animal):\n",
        "    def sound(self):\n",
        "        print(\"Sheep says Baa!\")\n",
        "\n",
        "# Main Program\n",
        "c = Cow()\n",
        "s = Sheep()\n",
        "c.sound()\n",
        "s.sound()"
      ],
      "metadata": {
        "colab": {
          "base_uri": "https://localhost:8080/"
        },
        "id": "8Em2wkgMMUxd",
        "outputId": "9a251ad6-55ec-4ccf-996b-03b581b8dca9"
      },
      "execution_count": 17,
      "outputs": [
        {
          "output_type": "stream",
          "name": "stdout",
          "text": [
            "Cow says Moo!\n",
            "Sheep says Baa!\n"
          ]
        }
      ]
    },
    {
      "cell_type": "markdown",
      "source": [
        "17. Create a class Book with attributes title, author, and year_published. Add a method get_book_info() that returns a formatted string with the book's details."
      ],
      "metadata": {
        "id": "c0tbwBuWNIKC"
      }
    },
    {
      "cell_type": "code",
      "source": [
        "class Book:\n",
        "    def __init__(self, title, author, year_published):\n",
        "        self.title = title\n",
        "        self.author = author\n",
        "        self.year_published = year_published\n",
        "\n",
        "    def get_book_info(self):\n",
        "        return f\"'{self.title}' by {self.author}, published in {self.year_published}\"\n",
        "\n",
        "# Main Program\n",
        "b = Book(\"Python Basics\", \"John Doe\", 2023)\n",
        "print(b.get_book_info())"
      ],
      "metadata": {
        "colab": {
          "base_uri": "https://localhost:8080/"
        },
        "id": "dsCvs1M9NMo0",
        "outputId": "d109a011-0499-4686-c026-409a683f478e"
      },
      "execution_count": 18,
      "outputs": [
        {
          "output_type": "stream",
          "name": "stdout",
          "text": [
            "'Python Basics' by John Doe, published in 2023\n"
          ]
        }
      ]
    },
    {
      "cell_type": "markdown",
      "source": [
        "18. Create a class House with attributes address and price. Create a derived class Mansion that adds an attribute number_of_rooms."
      ],
      "metadata": {
        "id": "xm3PDvkQNch_"
      }
    },
    {
      "cell_type": "code",
      "source": [
        "class House:\n",
        "    def __init__(self, address, price):\n",
        "        self.address = address\n",
        "        self.price = price\n",
        "\n",
        "class Mansion(House):\n",
        "    def __init__(self, address, price, number_of_rooms):\n",
        "        super().__init__(address, price)\n",
        "        self.number_of_rooms = number_of_rooms\n",
        "\n",
        "# Main Program\n",
        "m = Mansion(\"123 Luxury Street\", 20000000, 10)\n",
        "print(f\"Address: {m.address}, Price: ₹{m.price}, Rooms: {m.number_of_rooms}\")"
      ],
      "metadata": {
        "colab": {
          "base_uri": "https://localhost:8080/"
        },
        "id": "_buiLsOUNiav",
        "outputId": "9634d8db-74b8-4ed5-ffd1-b81e4253a3ac"
      },
      "execution_count": 19,
      "outputs": [
        {
          "output_type": "stream",
          "name": "stdout",
          "text": [
            "Address: 123 Luxury Street, Price: ₹20000000, Rooms: 10\n"
          ]
        }
      ]
    }
  ]
}